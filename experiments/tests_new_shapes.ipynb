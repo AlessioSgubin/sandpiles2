{
 "cells": [
  {
   "cell_type": "markdown",
   "id": "8409b930",
   "metadata": {},
   "source": [
    "# Tests for changing shapes\n",
    "\n",
    "We want to see what happens to the recurrents when we change shapes..."
   ]
  },
  {
   "cell_type": "code",
   "execution_count": 81,
   "id": "e76e5475",
   "metadata": {
    "vscode": {
     "languageId": "sage"
    }
   },
   "outputs": [],
   "source": [
    "# Loading standard library\n",
    "load(\"../sorted_sandpile.py\")\n",
    "\n",
    "def visual_degree(p):\n",
    "    q_max = p.degrees()[0]\n",
    "    t_max = p.degrees()[1]\n",
    "    max_deg = max([q_max,t_max])\n",
    "    # Compute the matrix\n",
    "    coeff_matrix = [[p.coefficient([q_deg, t_deg]) for t_deg in range(max_deg + 1)] for q_deg in range(max_deg + 1)]\n",
    "    # Plot the matrix\n",
    "    return matrix_plot(matrix(coeff_matrix))\n",
    "\n",
    "# Defining a sandpile generator, where we have more freedom on the sink\n",
    "def Multi_CliqueIndependent_SortedSandpile_FreeSink(mu, nu, kmul, hmul = -1, sink_out = {}, sink_in = {}):\n",
    "    r\"\"\"\n",
    "        Construction of the Sorted Sandpile, given two partitions mu, nu, where edges have multeplicity k in each clique and multeplicity h between components.\n",
    "    \"\"\"\n",
    "    if hmul == -1:     # If third argument is not given, assume it is equal to k\n",
    "        hmul = kmul\n",
    "\n",
    "    mu_num = sum(mu)                                    # Number of independent vertices\n",
    "    nu_num = sum(nu)                                    # Number of vertices in cliques\n",
    "    perm_group = []                                     # Initialize the permutation group acting on the graph\n",
    "\n",
    "    # Format the multeplicities in/out of the sink\n",
    "    sink_out = sink_out | {v:1 for v in range(1, mu_num+nu_num+1) if v not in sink_out.keys()}\n",
    "    sink_in = sink_in | {v:1 for v in range(1, mu_num+nu_num+1) if v not in sink_in.keys()}\n",
    "\n",
    "    # Initialize the dictionary with the out-edges of the sink\n",
    "    d = {0 : [v for v in range(1, mu_num+nu_num+1) for i in range(sink_out[v])]}\n",
    "    \n",
    "    part_first = 1                                      # Keeps track of first vertex of current part\n",
    "    for part_nu in nu:                                          # Add edges for independent vertices. For each part...\n",
    "        for i in range(part_nu):\n",
    "            indep = [vert for vert in range(mu_num + nu_num + 1) for mult in range(kmul-1) if (part_first <= vert) and (vert < part_first + part_nu) and (vert != part_first + i)]\n",
    "            others = [vert for vert in range(mu_num + nu_num + 1) for mult in range(hmul) if ((0 < vert) and (vert < part_first)) or (vert >= part_first + part_nu)]\n",
    "            d[part_first + i] = [0]*sink_in[part_first + i] + indep + others\n",
    "                                                                        # ...add all edges except for other vertices in part_nu    \n",
    "        perm_group.append([part_first+j for j in range(part_nu)])       # Add the permutation orbit for the nu_part\n",
    "        part_first += part_nu\n",
    "    mu_rev = copy.copy(mu)                                              # We need the reversed partition mu...\n",
    "    mu_rev.reverse()\n",
    "    for part_mu in mu_rev:                                      # Add edges for clique sets. For each part...\n",
    "        for i in range(part_mu):\n",
    "            clique = [vert for vert in range(mu_num + nu_num + 1) for mult in range(kmul) if (part_first <= vert) and (vert < part_first + part_mu) and (vert != part_first + i)]\n",
    "            others = [vert for vert in range(mu_num + nu_num + 1) for mult in range(hmul) if ((0 < vert) and (vert < part_first)) or (vert >= part_first + part_mu)]\n",
    "            d[part_first + i] = [0]*sink_in[part_first + i] + clique + others\n",
    "        perm_group.append([part_first+j for j in range(part_mu)])       # Add the permutation orbit for the mu_part\n",
    "        part_first += part_mu\n",
    "\n",
    "    ordered = []\n",
    "    for i in range(len(mu)):\n",
    "        temp = copy.copy(perm_group[len(perm_group)-i-1])\n",
    "        temp.sort()\n",
    "        ordered = ordered + temp\n",
    "    for j in range(len(nu)):\n",
    "        temp = copy.copy(perm_group[len(nu)-j-1])\n",
    "        temp.sort(reverse = True)\n",
    "        ordered = ordered + temp\n",
    "    #print(d)\n",
    "    G = Graph(d)            # type: ignore      # Define the clique-independent graph\n",
    "    specif_opt = [\"mul-clique-indep\", [mu, nu],  ordered, kmul, hmul]\n",
    "    '''\n",
    "        Specific Options:\n",
    "        1-  list of the defining partitions\n",
    "        2-  reading order\n",
    "    '''\n",
    "    S = SortedSandpile(G, 0, perm_group, specif_opt)\n",
    "    return S"
   ]
  },
  {
   "cell_type": "code",
   "execution_count": 82,
   "id": "68b85be8",
   "metadata": {
    "vscode": {
     "languageId": "sage"
    }
   },
   "outputs": [
    {
     "name": "stdout",
     "output_type": "stream",
     "text": [
      "[{1: 2, 2: 2, 3: 2}, {1: 1, 2: 1, 3: 2}, {1: 1, 2: 2, 3: 2}, {1: 0, 2: 2, 3: 2}, {1: 0, 2: 1, 3: 2}]\n",
      "[{1: 2, 2: 2, 3: 3}, {1: 1, 2: 1, 3: 2}, {1: 1, 2: 2, 3: 2}, {1: 1, 2: 1, 3: 3}, {1: 2, 2: 2, 3: 2}, {1: 0, 2: 2, 3: 3}, {1: 1, 2: 2, 3: 3}, {1: 0, 2: 2, 3: 2}, {1: 0, 2: 1, 3: 2}, {1: 0, 2: 1, 3: 3}]\n",
      "[{1: 2, 2: 2, 3: 3}, {1: 1, 2: 1, 3: 3}, {1: 0, 2: 2, 3: 3}, {1: 1, 2: 2, 3: 3}, {1: 0, 2: 1, 3: 3}]\n"
     ]
    }
   ],
   "source": [
    "n = 3\n",
    "k = 1\n",
    "outs = {3:2}\n",
    "ins = {3:1}\n",
    "\n",
    "S1 = Multi_CliqueIndependent_SortedSandpile_FreeSink([n], [], k, sink_out = {}, sink_in = {})\n",
    "S2 = Multi_CliqueIndependent_SortedSandpile_FreeSink([n], [], k, sink_out = outs, sink_in = ins)\n",
    "\n",
    "\n",
    "\n",
    "srec1 = S1.sorted_recurrents()\n",
    "srec2 = S2.sorted_recurrents()\n",
    "print(srec1)\n",
    "print(srec2)\n",
    "print([v for v in srec2 if v not in srec1])"
   ]
  },
  {
   "cell_type": "code",
   "execution_count": 83,
   "id": "47710489",
   "metadata": {
    "vscode": {
     "languageId": "sage"
    }
   },
   "outputs": [
    {
     "name": "stdout",
     "output_type": "stream",
     "text": [
      "Polynomial cl:  q^3 + q^2*t + q*t^2 + t^3 + q*t\n",
      "Polynomial new: q*t^6 + q^2*t^4 + t^6 + q^3*t^2 + q*t^4 + q^4 + 2*q^2*t^2 + q^3 + q*t^2\n"
     ]
    },
    {
     "data": {
      "image/png": "[encoded data removed]",
      "text/plain": [
       "Graphics object consisting of 1 graphics primitive"
      ]
     },
     "execution_count": 83,
     "metadata": {},
     "output_type": "execute_result"
    }
   ],
   "source": [
    "polyS1 = S1.qt_Polynomial()\n",
    "polyS2 = S2.qt_Polynomial()\n",
    "print(\"Polynomial cl:  {}\\nPolynomial new: {}\".format(polyS1,polyS2))\n",
    "visual_degree(numerator(polyS2))"
   ]
  },
  {
   "cell_type": "code",
   "execution_count": null,
   "id": "d0d6c722",
   "metadata": {
    "vscode": {
     "languageId": "sage"
    }
   },
   "outputs": [],
   "source": []
  },
  {
   "cell_type": "code",
   "execution_count": null,
   "id": "2d5ece9d",
   "metadata": {
    "vscode": {
     "languageId": "sage"
    }
   },
   "outputs": [],
   "source": []
  },
  {
   "cell_type": "code",
   "execution_count": null,
   "id": "43480b2f",
   "metadata": {
    "vscode": {
     "languageId": "sage"
    }
   },
   "outputs": [],
   "source": []
  }
 ],
 "metadata": {
  "kernelspec": {
   "display_name": "SageMath 10.4.beta7",
   "language": "sage",
   "name": "sagemath-dev"
  },
  "language_info": {
   "codemirror_mode": {
    "name": "ipython",
    "version": 3
   },
   "file_extension": ".py",
   "mimetype": "text/x-python",
   "name": "python",
   "nbconvert_exporter": "python",
   "pygments_lexer": "ipython3",
   "version": "3.12.3"
  }
 },
 "nbformat": 4,
 "nbformat_minor": 5
}
