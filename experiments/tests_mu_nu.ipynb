{
 "cells": [
  {
   "cell_type": "markdown",
   "id": "e4806c10",
   "metadata": {},
   "source": [
    "# Experiments for bijection sandpiles parkfunc"
   ]
  },
  {
   "cell_type": "code",
   "execution_count": 1,
   "id": "1e2c8330",
   "metadata": {},
   "outputs": [],
   "source": [
    "# Load the package...\n",
    "load(\"../sorted_sandpile.py\")"
   ]
  },
  {
   "cell_type": "code",
   "execution_count": null,
   "id": "cd802908",
   "metadata": {},
   "outputs": [],
   "source": [
    "# Initialize symmetric function stuff...\n",
    "\n",
    "R = FractionField(QQ['q, t'])      # type: ignore\n",
    "q,t = R.gens()\n",
    "poly = 0*q*t"
   ]
  },
  {
   "cell_type": "code",
   "execution_count": null,
   "id": "bc0f1ff6",
   "metadata": {},
   "outputs": [],
   "source": [
    "# Construct the two graphs that should be equivalent...\n",
    "\n",
    "mu = []\n",
    "nu = [6]\n",
    "nu_rev = [nu[len(nu) - i - 1] for i in range(len(nu))]\n",
    "n = sum(mu) + sum(nu)\n",
    "k = 2\n",
    "\n",
    "G1 = Multi_CliqueIndependent_SortedSandpile(mu, nu, k)\n",
    "G2 = Multi_CliqueIndependent_SortedSandpile(mu + nu_rev, [], k)"
   ]
  },
  {
   "cell_type": "code",
   "execution_count": null,
   "id": "7a07cec9",
   "metadata": {},
   "outputs": [],
   "source": [
    "G1.show()\n",
    "G2.show()"
   ]
  },
  {
   "cell_type": "code",
   "execution_count": null,
   "id": "d9cf36fa",
   "metadata": {},
   "outputs": [],
   "source": [
    "#sortrec1 = G1.sorted_recurrents(option=2)\n",
    "#sortrec2 = G2.sorted_recurrents(option=2)"
   ]
  },
  {
   "cell_type": "code",
   "execution_count": null,
   "id": "11d58f23",
   "metadata": {},
   "outputs": [],
   "source": [
    "poly1 = G1.qt_Polynomial_test()"
   ]
  },
  {
   "cell_type": "code",
   "execution_count": null,
   "id": "792b4e5b",
   "metadata": {},
   "outputs": [],
   "source": []
  },
  {
   "cell_type": "code",
   "execution_count": null,
   "id": "97cd2429",
   "metadata": {},
   "outputs": [],
   "source": []
  },
  {
   "cell_type": "code",
   "execution_count": null,
   "id": "d9daa90c",
   "metadata": {},
   "outputs": [],
   "source": [
    "new_set = []\n",
    "\n",
    "for conf1 in sortrec1:                      # Implement the correspondence\n",
    "    conf2 = {}\n",
    "    conf2 = conf2 | {1:conf1[1] + 0}\n",
    "    conf2 = conf2 | {2:conf1[2] + 1}\n",
    "    conf2 = conf2 | {3:conf1[3] + 2}\n",
    "    conf2 = conf2 | {4:conf1[4] + 3}\n",
    "    conf2 = conf2 | {5:conf1[5] + 0}\n",
    "    conf2 = conf2 | {6:conf1[6] + 0}\n",
    "    conf2 = conf2 | {7:conf1[7] + 0}\n",
    "    new_set = new_set + [conf2]\n",
    "    \n",
    "    config1 = SandpileSortConfig(G1.sandpile_struct, conf1, G1.perm_group, verts=G1.vertices) \n",
    "    config2 = SandpileSortConfig(G2.sandpile_struct, conf2, G2.perm_group, verts=G2.vertices)  \n",
    "    l1 = config1.level()\n",
    "    d1 = config1.delay()\n",
    "    l2 = config2.level()\n",
    "    d2 = config2.delay()\n",
    "    if (l1 != l2) or (d1 != d2):            # Check if the correspondence works...\n",
    "        print(\"Config G1:\\t {}\\n level(c) = {} \\t\\t delay(c) = {}\".format(conf1, l1, d1))\n",
    "        print(\"Config G2:\\t {}\\n level(c) = {} \\t\\t delay(c) = {}\\n\".format(conf2, l2, d2))"
   ]
  },
  {
   "cell_type": "markdown",
   "id": "4e4ba963",
   "metadata": {},
   "source": [
    "# Test for Example 4.1"
   ]
  },
  {
   "cell_type": "code",
   "execution_count": 7,
   "id": "051bdf21",
   "metadata": {},
   "outputs": [
    {
     "name": "stdout",
     "output_type": "stream",
     "text": [
      "{1: 2, 2: 8, 3: 14, 4: 18, 5: 22, 6: 23, 7: 14, 8: 18, 9: 2, 10: 24, 11: 18, 12: 17, 13: 6}\n"
     ]
    }
   ],
   "source": [
    "def tilde_map(mu,nu,config):\n",
    "    new_conf = {}       # Define new dictionary\n",
    "    n = sum(mu) + sum(nu)\n",
    "    i = 0\n",
    "    for part_nu in nu:\n",
    "        for j in range(part_nu):\n",
    "            i += 1\n",
    "            new_conf = new_conf | {i:config[i]+j}\n",
    "    for j in range(n-i):\n",
    "        new_conf = new_conf | {i+j+1:config[i+j+1]}\n",
    "    return new_conf         # !!!!!! RETURNS A DICTIONARY !!!!!!\n",
    "\n",
    "# Construct the two graphs that should be equivalent...\n",
    "\n",
    "mu = [4,1]\n",
    "nu = [6,2]\n",
    "nu_rev = [nu[len(nu) - i - 1] for i in range(len(nu))]\n",
    "n = sum(mu) + sum(nu)\n",
    "k = 2\n",
    "\n",
    "G1 = Multi_CliqueIndependent_SortedSandpile(mu, nu, k)\n",
    "G2 = Multi_CliqueIndependent_SortedSandpile(mu + nu_rev, [], k)\n",
    "\n",
    "conf1 = {1:2, 2:7, 3:12, 4:15, 5:18, 6:18, 7:14, 8:17, 9:2, 10:24, 11:18, 12:17, 13:6}\n",
    "conf2 = tilde_map(mu,nu,conf1)\n",
    "\n",
    "old_conf = SandpileSortConfig(G1.sandpile_struct, conf1, G1.perm_group, verts=G1.vertices)\n",
    "new_conf = SandpileSortConfig(G2.sandpile_struct, conf2, G2.perm_group, verts=G2.vertices)\n",
    "\n",
    "print(conf2)\n",
    "\n",
    "[del1,wtopp1,record1,word1] = old_conf.k_delay_test()\n",
    "[del2,wtopp2,record2,word2] = new_conf.k_delay_test()"
   ]
  },
  {
   "cell_type": "code",
   "execution_count": 5,
   "id": "44accfcd",
   "metadata": {},
   "outputs": [
    {
     "name": "stdout",
     "output_type": "stream",
     "text": [
      "[13, 6, 5, 13, 6, 5, 4, 12, 11, 8, 7, 4, 3, 12, 11, 8, 7, 3, 2, 10, 2, 10, 9, 1, 9, 1]\n",
      "[13, 6, 5, 13, 6, 5, 4, 12, 11, 8, 7, 4, 3, 12, 11, 8, 7, 3, 2, 10, 2, 10, 9, 1, 9, 1]\n",
      "[13, -1, -1, -1, -1, -1, -1, 6, 5, -1, -1, -1, -1, 13, -1, -1, -1, -1, -1, -1, 6, 5, 4, -1, -1, -1, -1, 12, 11, -1, -1, 8, 7, -1, -1, 4, 3, -1, -1, -1, 12, 11, -1, -1, 8, 7, -1, -1, -1, 3, 2, -1, -1, -1, -1, 10, -1, -1, -1, -1, -1, -1, -1, 2, -1, -1, -1, -1, 10, 9, -1, -1, -1, -1, -1, -1, -1, 1, -1, -1, -1, -1, 9, -1, -1, -1, -1, -1, -1, -1, 1]\n",
      "[13, -1, -1, -1, -1, -1, -1, 6, 5, -1, -1, -1, -1, 13, -1, -1, -1, -1, -1, -1, 6, 5, 4, -1, -1, -1, -1, 12, 11, -1, -1, 8, 7, -1, -1, 4, 3, -1, -1, -1, 12, 11, -1, -1, 8, 7, -1, -1, -1, 3, 2, -1, -1, -1, -1, 10, -1, -1, -1, -1, -1, -1, -1, 2, -1, -1, -1, -1, 10, 9, -1, -1, -1, -1, -1, -1, -1, 1, -1, -1, -1, -1, 9, -1, -1, -1, -1, -1, -1, -1, 1]\n"
     ]
    }
   ],
   "source": [
    "print(wtopp1)\n",
    "print(wtopp2)\n",
    "print(record1)\n",
    "print(record2)"
   ]
  },
  {
   "cell_type": "code",
   "execution_count": 9,
   "id": "5d13410d",
   "metadata": {},
   "outputs": [
    {
     "name": "stdout",
     "output_type": "stream",
     "text": [
      "0 & 25 & 19 & 18 & 7 & 3 & 18 & 15 & 19 & 19 & 16 & 13 & 8 & 3\\\\ \n",
      "13 & 13 & 20 & 19 & 8 & 4 & 19 & 16 & \\textbf{ 20 } & \\textbf{ 20 } & 17 & 14 & 9 & 4\\\\ \n",
      "6 & 14 & 21 & 20 & 9 & 5 & 20 & 17 & 13 & \\textbf{ 20 } & 17 & 14 & 9 & 4\\\\ \n",
      "5 & 15 & 22 & 21 & 10 & 6 & 21 & 18 & 13 & 13 & 17 & 14 & 9 & 4\\\\ \n",
      "13 & 3 & 23 & 22 & 11 & 7 & 22 & 19 & 14 & 14 & 18 & 15 & 10 & 5\\\\ \n",
      "6 & 4 & 24 & 23 & 12 & 8 & 23 & 20 & 2 & 15 & 19 & 16 & 11 & 6\\\\ \n",
      "5 & 5 & \\textbf{ 25 } & 24 & 13 & 9 & \\textbf{ 24 } & 21 & 3 & 3 & \\textbf{ 20 } & 17 & 12 & 7\\\\ \n",
      "4 & 6 & \\textbf{ 26 } & \\textbf{ 25 } & 14 & 10 & \\textbf{ 25 } & 22 & 3 & 3 & 13 & 17 & 12 & 7\\\\ \n",
      "12 & 7 & 14 & \\textbf{ 26 } & 15 & 11 & \\textbf{ 26 } & 23 & 4 & 4 & 14 & 18 & 13 & 8\\\\ \n",
      "11 & 8 & 15 & 14 & 16 & 12 & \\textbf{ 27 } & \\textbf{ 24 } & 5 & 5 & 15 & 19 & 14 & 9\\\\ \n",
      "8 & 9 & 16 & 15 & 17 & 13 & 16 & \\textbf{ 24 } & 6 & 6 & 16 & \\textbf{ 20 } & 15 & 10\\\\ \n",
      "7 & 10 & 17 & 16 & 18 & 14 & 16 & 13 & 7 & 7 & 17 & \\textbf{ 21 } & 16 & 11\\\\ \n",
      "4 & 11 & 18 & 17 & 19 & 15 & 17 & 14 & 8 & 8 & 5 & \\textbf{ 22 } & 17 & 12\\\\ \n",
      "3 & 12 & 19 & 18 & 20 & 16 & 18 & 15 & 8 & 8 & 5 & 15 & 17 & 12\\\\ \n",
      "12 & 13 & 7 & 19 & 21 & 17 & 19 & 16 & 9 & 9 & 6 & 16 & 18 & 13\\\\ \n",
      "11 & 14 & 8 & 7 & 22 & 18 & 20 & 17 & 10 & 10 & 7 & 17 & 19 & 14\\\\ \n",
      "8 & 15 & 9 & 8 & 23 & 19 & 8 & 18 & 11 & 11 & 8 & 18 & \\textbf{ 20 } & 15\\\\ \n",
      "7 & 16 & 10 & 9 & 24 & 20 & 9 & 6 & 12 & 12 & 9 & 19 & \\textbf{ 21 } & 16\\\\ \n",
      "3 & 17 & 11 & 10 & \\textbf{ 25 } & 21 & 10 & 7 & 13 & 13 & 10 & 7 & \\textbf{ 22 } & 17\\\\ \n",
      "2 & 18 & 12 & 11 & \\textbf{ 26 } & 22 & 11 & 8 & 13 & 13 & 10 & 7 & 15 & 17\\\\ \n",
      "10 & 19 & 13 & 12 & 14 & 23 & 12 & 9 & 14 & 14 & 11 & 8 & 16 & 18\\\\ \n",
      "2 & 20 & 14 & 13 & 15 & 24 & 13 & 10 & 15 & 15 & 12 & 9 & 4 & 19\\\\ \n",
      "10 & 21 & 15 & 14 & 3 & \\textbf{ 25 } & 14 & 11 & 16 & 16 & 13 & 10 & 5 & \\textbf{ 20 }\\\\ \n",
      "9 & 22 & 16 & 15 & 4 & 13 & 15 & 12 & 17 & 17 & 14 & 11 & 6 & \\textbf{ 21 }\\\\ \n",
      "1 & 23 & 17 & 16 & 5 & 14 & 16 & 13 & 17 & 17 & 14 & 11 & 6 & 14\\\\ \n",
      "9 & 24 & 18 & 17 & 6 & 2 & 17 & 14 & 18 & 18 & 15 & 12 & 7 & 15\\\\ \n",
      "1 & \\textbf{ 25 } & 19 & 18 & 7 & 3 & 18 & 15 & 19 & 19 & 16 & 13 & 8 & 3\\\\ \n",
      "\n"
     ]
    }
   ],
   "source": [
    "print(word1)"
   ]
  },
  {
   "cell_type": "code",
   "execution_count": 12,
   "id": "143b02d6",
   "metadata": {},
   "outputs": [
    {
     "data": {
      "text/plain": [
       "[26, 25, 24, 20, 20, 20, 19, 16, 16, 10, 8, 4, 4]"
      ]
     },
     "execution_count": 12,
     "metadata": {},
     "output_type": "execute_result"
    }
   ],
   "source": [
    "X = [6,17,18,24,2,18,14,23,22,18,14,8,2]\n",
    "X.sort(reverse = True)\n",
    "X = [v+2 for v in X]\n",
    "X"
   ]
  },
  {
   "cell_type": "code",
   "execution_count": null,
   "id": "72a5765f",
   "metadata": {},
   "outputs": [],
   "source": []
  }
 ],
 "metadata": {
  "kernelspec": {
   "display_name": "SageMath 10.4.beta7",
   "language": "sage",
   "name": "sagemath-dev"
  },
  "language_info": {
   "codemirror_mode": {
    "name": "ipython",
    "version": 3
   },
   "file_extension": ".py",
   "mimetype": "text/x-python",
   "name": "sage",
   "nbconvert_exporter": "python",
   "pygments_lexer": "ipython3",
   "version": "3.12.3"
  }
 },
 "nbformat": 4,
 "nbformat_minor": 5
}
